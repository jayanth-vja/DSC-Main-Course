{
 "cells": [
  {
   "cell_type": "markdown",
   "metadata": {},
   "source": [
    "# CAPSTONE PROJECT 2\n",
    "# SENTIMENT ANALYSIS"
   ]
  },
  {
   "cell_type": "markdown",
   "metadata": {},
   "source": [
    "* Problem Statement\n",
    "* Data Source\n",
    "* Sentiment Analysis  \n",
    "* Importing required libraries\n",
    "* Importing API keys and accessing Twitter API to retrieve tweets\n",
    "* Retrieving the top 500 tweets which have the words \"KTR\" and \"TRS\"\n",
    "* Data Cleaning using Regular Expressions\n",
    "* EDA\n",
    "  - Finding the 15 most frequent words\n",
    "  - Finding maximum and minimum word length in the tweets\n",
    "  - Plotting histogram with length of the words\n",
    "  - Plotting horizontal bar graph for most common words found in Tweets\n",
    "  - Word Cloud\n",
    "* How Text Blob Works:\n",
    "  - Polarity\n",
    "  - Subjectivity\n",
    "* Creating a function to compute the negative, neutral and positive analysis\n",
    "* Print all of the positive tweets\n",
    "* Print all of the negative tweets \n",
    "* Plot the polarity and subjectivity\n",
    "* Get the percentage of positive tweets\n",
    "* Get the percentage of negative tweets\n",
    "* Percentage of neutral sentiment\n",
    "* Plot and visualize the counts\n",
    "* CONCLUSION\n",
    "* FUTURE STEPS"
   ]
  },
  {
   "cell_type": "markdown",
   "metadata": {},
   "source": [
    "# Problem Statement"
   ]
  },
  {
   "cell_type": "markdown",
   "metadata": {},
   "source": [
    "* Need to predict sentiment of the TRS party in GHMC Elections"
   ]
  },
  {
   "cell_type": "markdown",
   "metadata": {},
   "source": [
    "# Data Source"
   ]
  },
  {
   "cell_type": "markdown",
   "metadata": {},
   "source": [
    "* Using the top 500 tweets based on the words 'TRS' and TRS working president 'KTR' from Twitter"
   ]
  },
  {
   "cell_type": "markdown",
   "metadata": {},
   "source": [
    "# Sentiment Analysis"
   ]
  },
  {
   "cell_type": "markdown",
   "metadata": {},
   "source": [
    "Sentiment analysis is the interpretation and classification of emotions (positive, negative and neutral) \n",
    "within text data using text analysis techniques . Here I have used Natural Language Processing techniques."
   ]
  },
  {
   "cell_type": "markdown",
   "metadata": {},
   "source": [
    "# Importing required libraries"
   ]
  },
  {
   "cell_type": "markdown",
   "metadata": {},
   "source": [
    "* Tweepy is the Python library for accessing the Twitter API\n",
    "* TextBlob is a Python library for processing textual data. \n",
    "  It provides a simple API for diving into common natural language processing (NLP) tasks \n",
    "  such as part-of-speech tagging, noun phrase extraction, sentiment analysis, classification, translation, and more.\n",
    "* Word Cloud is a data visualization technique used for representing text data in which \n",
    "  the size of each word indicates its frequency or importance. \n",
    "  Significant textual data points can be highlighted using a word cloud. \n",
    "  Word clouds are widely used for analyzing data from social network websites.\n",
    "    \n"
   ]
  },
  {
   "cell_type": "code",
   "execution_count": 266,
   "metadata": {},
   "outputs": [],
   "source": [
    "import tweepy\n",
    "from textblob import TextBlob\n",
    "from wordcloud import WordCloud\n",
    "import pandas as pd\n",
    "import numpy as np\n",
    "import re\n",
    "import matplotlib.pyplot as plt\n",
    "plt.style.use('fivethirtyeight')\n"
   ]
  },
  {
   "cell_type": "markdown",
   "metadata": {},
   "source": [
    "# Importing API keys and accessing Twitter API to retrieve tweets"
   ]
  },
  {
   "cell_type": "code",
   "execution_count": 267,
   "metadata": {},
   "outputs": [],
   "source": [
    "log = pd.read_csv('E:/Data Science/Book1_API_KEYS.csv')\n",
    "consumer_key = log['key'][0]\n",
    "consumer_secret = log['key'][1]\n",
    "access_token = log['key'][2]\n",
    "access_token_secret = log['key'][3]\n",
    "auth = tweepy.OAuthHandler(consumer_key, consumer_secret)\n",
    "auth.set_access_token(access_token, access_token_secret)\n",
    "api = tweepy.API(auth)"
   ]
  },
  {
   "cell_type": "markdown",
   "metadata": {},
   "source": [
    "# Retrieving the top 500 tweets which have the words \"KTR\" and \"TRS\""
   ]
  },
  {
   "cell_type": "code",
   "execution_count": 268,
   "metadata": {},
   "outputs": [
    {
     "name": "stdout",
     "output_type": "stream",
     "text": [
      "Shame on democrocy. Trs working president and state cabinet minister Ktr killed democrocy by having two votes in a state. Pls take necessary action up on him.\n",
      "@CEO_Telangana @rashtrapatibhvn @electioncomissionofindia https://t.co/rTBDa6VZgZ\n",
      "\n",
      "RT @SpiritOfCongres: CM KCR says TRS and MIM are friends.\n",
      "\n",
      "His son KTR says they are not friends. \n",
      "\n",
      "We say TRS, MIM &amp; BJP are in Friends wi…\n",
      "\n",
      "@its_kumarvikash @KTRTRS Well for his oratory skills, he is one of the best. But their position on AIMIM is what makes it all dicey. Wish TRS becomes part of NDA and KTR becomes a central minister someday.\n",
      "\n",
      "RT @KVishReddy: Massive distribution of money in different parts of GHMC by TRS party\n",
      "\n",
      "Money earned thru filthy means by KCR KTR\n",
      "\n",
      "Local lea…\n",
      "\n",
      "RT @prakashraaj: Dear Hyderabad.... it’s your power...your right..and your CONSCIENCE.....to DECIDE. do you want a peaceful HYDERABAD.. #GH…\n",
      "\n"
     ]
    },
    {
     "data": {
      "text/html": [
       "<div>\n",
       "<style scoped>\n",
       "    .dataframe tbody tr th:only-of-type {\n",
       "        vertical-align: middle;\n",
       "    }\n",
       "\n",
       "    .dataframe tbody tr th {\n",
       "        vertical-align: top;\n",
       "    }\n",
       "\n",
       "    .dataframe thead th {\n",
       "        text-align: right;\n",
       "    }\n",
       "</style>\n",
       "<table border=\"1\" class=\"dataframe\">\n",
       "  <thead>\n",
       "    <tr style=\"text-align: right;\">\n",
       "      <th></th>\n",
       "      <th>Tweets</th>\n",
       "    </tr>\n",
       "  </thead>\n",
       "  <tbody>\n",
       "    <tr>\n",
       "      <th>0</th>\n",
       "      <td>Shame on democrocy. Trs working president and ...</td>\n",
       "    </tr>\n",
       "    <tr>\n",
       "      <th>1</th>\n",
       "      <td>RT @SpiritOfCongres: CM KCR says TRS and MIM a...</td>\n",
       "    </tr>\n",
       "    <tr>\n",
       "      <th>2</th>\n",
       "      <td>@its_kumarvikash @KTRTRS Well for his oratory ...</td>\n",
       "    </tr>\n",
       "    <tr>\n",
       "      <th>3</th>\n",
       "      <td>RT @KVishReddy: Massive distribution of money ...</td>\n",
       "    </tr>\n",
       "    <tr>\n",
       "      <th>4</th>\n",
       "      <td>RT @prakashraaj: Dear Hyderabad.... it’s your ...</td>\n",
       "    </tr>\n",
       "  </tbody>\n",
       "</table>\n",
       "</div>"
      ],
      "text/plain": [
       "                                              Tweets\n",
       "0  Shame on democrocy. Trs working president and ...\n",
       "1  RT @SpiritOfCongres: CM KCR says TRS and MIM a...\n",
       "2  @its_kumarvikash @KTRTRS Well for his oratory ...\n",
       "3  RT @KVishReddy: Massive distribution of money ...\n",
       "4  RT @prakashraaj: Dear Hyderabad.... it’s your ..."
      ]
     },
     "execution_count": 268,
     "metadata": {},
     "output_type": "execute_result"
    }
   ],
   "source": [
    "posts1 = api.search([\"KTR\", \"TRS\"], count = 500, lang=\"en\", tweet_mode=\"extended\")\n",
    "for tweet in posts1[0:5]:\n",
    "    print(tweet.full_text + '\\n')\n",
    "\n",
    "\n",
    "df = pd.DataFrame([tweet.full_text for tweet in posts1], columns=['Tweets'])\n",
    "df.head()"
   ]
  },
  {
   "cell_type": "markdown",
   "metadata": {},
   "source": [
    "# Data Cleaning using Regular Expressions\n",
    "\n",
    "* A RegEx, or Regular Expression, is a sequence of characters that forms a search pattern. \n",
    "  RegEx can be used to check if a string contains the specified search pattern and do some manupulations like substitution,\n",
    "  removal etc."
   ]
  },
  {
   "cell_type": "code",
   "execution_count": 269,
   "metadata": {},
   "outputs": [
    {
     "data": {
      "text/html": [
       "<div>\n",
       "<style scoped>\n",
       "    .dataframe tbody tr th:only-of-type {\n",
       "        vertical-align: middle;\n",
       "    }\n",
       "\n",
       "    .dataframe tbody tr th {\n",
       "        vertical-align: top;\n",
       "    }\n",
       "\n",
       "    .dataframe thead th {\n",
       "        text-align: right;\n",
       "    }\n",
       "</style>\n",
       "<table border=\"1\" class=\"dataframe\">\n",
       "  <thead>\n",
       "    <tr style=\"text-align: right;\">\n",
       "      <th></th>\n",
       "      <th>Tweets</th>\n",
       "    </tr>\n",
       "  </thead>\n",
       "  <tbody>\n",
       "    <tr>\n",
       "      <th>0</th>\n",
       "      <td>Shame on democrocy. Trs working president and ...</td>\n",
       "    </tr>\n",
       "    <tr>\n",
       "      <th>1</th>\n",
       "      <td>: CM KCR says TRS and MIM are friends.\\n\\nHis ...</td>\n",
       "    </tr>\n",
       "    <tr>\n",
       "      <th>2</th>\n",
       "      <td>_kumarvikash  Well for his oratory skills, he ...</td>\n",
       "    </tr>\n",
       "    <tr>\n",
       "      <th>3</th>\n",
       "      <td>: Massive distribution of money in different p...</td>\n",
       "    </tr>\n",
       "    <tr>\n",
       "      <th>4</th>\n",
       "      <td>: Dear Hyderabad.... it’s your power...your ri...</td>\n",
       "    </tr>\n",
       "    <tr>\n",
       "      <th>...</th>\n",
       "      <td>...</td>\n",
       "    </tr>\n",
       "    <tr>\n",
       "      <th>95</th>\n",
       "      <td>: Dear Hyderabad.... it’s your power...your ri...</td>\n",
       "    </tr>\n",
       "    <tr>\n",
       "      <th>96</th>\n",
       "      <td>: Stakes high for KTR who has been the face of...</td>\n",
       "    </tr>\n",
       "    <tr>\n",
       "      <th>97</th>\n",
       "      <td>: Dear Hyderabad.... it’s your power...your ri...</td>\n",
       "    </tr>\n",
       "    <tr>\n",
       "      <th>98</th>\n",
       "      <td>_: AttackOnBandiSanjay is a result of frustrat...</td>\n",
       "    </tr>\n",
       "    <tr>\n",
       "      <th>99</th>\n",
       "      <td>Let's stand for development and let's stand fo...</td>\n",
       "    </tr>\n",
       "  </tbody>\n",
       "</table>\n",
       "<p>100 rows × 1 columns</p>\n",
       "</div>"
      ],
      "text/plain": [
       "                                               Tweets\n",
       "0   Shame on democrocy. Trs working president and ...\n",
       "1   : CM KCR says TRS and MIM are friends.\\n\\nHis ...\n",
       "2   _kumarvikash  Well for his oratory skills, he ...\n",
       "3   : Massive distribution of money in different p...\n",
       "4   : Dear Hyderabad.... it’s your power...your ri...\n",
       "..                                                ...\n",
       "95  : Dear Hyderabad.... it’s your power...your ri...\n",
       "96  : Stakes high for KTR who has been the face of...\n",
       "97  : Dear Hyderabad.... it’s your power...your ri...\n",
       "98  _: AttackOnBandiSanjay is a result of frustrat...\n",
       "99  Let's stand for development and let's stand fo...\n",
       "\n",
       "[100 rows x 1 columns]"
      ]
     },
     "execution_count": 269,
     "metadata": {},
     "output_type": "execute_result"
    }
   ],
   "source": [
    "# clean the text\n",
    "def cleanTxt(text):    \n",
    "    text = re.sub(r'@[A-Za-z0-9]+', '', text)  #removes @mentions\n",
    "    text = re.sub(r'#', '', text)  #removing hashtag symbols\n",
    "    text = re.sub(r'RT[\\s]+', '', text) # removes RT sub leaf and follwed by white spaces\n",
    "    text = re.sub(r'https?:\\/\\/S+', '', text) # removes the hyper link\n",
    "  \n",
    "    return text\n",
    "#cleaning or applying the cleaning text function\n",
    "df['Tweets'] = df['Tweets'].apply(cleanTxt)\n",
    "\n",
    "#Show the cleaned text\n",
    "df"
   ]
  },
  {
   "cell_type": "markdown",
   "metadata": {},
   "source": [
    "# EDA"
   ]
  },
  {
   "cell_type": "markdown",
   "metadata": {},
   "source": [
    "* Finding the 10 most frequent words"
   ]
  },
  {
   "cell_type": "code",
   "execution_count": 270,
   "metadata": {},
   "outputs": [
    {
     "data": {
      "text/plain": [
       "[('.', 133),\n",
       " (':', 83),\n",
       " ('TRS', 69),\n",
       " ('KTR', 66),\n",
       " ('...', 63),\n",
       " ('your', 63),\n",
       " ('of', 59),\n",
       " ('for', 44),\n",
       " (',', 41),\n",
       " ('is', 37),\n",
       " ('a', 36),\n",
       " ('and', 33),\n",
       " ('Hyderabad', 30),\n",
       " ('vote', 29),\n",
       " ('the', 26)]"
      ]
     },
     "execution_count": 270,
     "metadata": {},
     "output_type": "execute_result"
    }
   ],
   "source": [
    "import nltk \n",
    "from nltk.tokenize import word_tokenize\n",
    "from collections import Counter\n",
    "word2count = {} \n",
    "for data in df['Tweets']: \n",
    "    words = nltk.word_tokenize(data) \n",
    "    for word in words: \n",
    "        if word not in word2count.keys(): \n",
    "            word2count[word] = 1\n",
    "        else: \n",
    "            word2count[word] += 1\n",
    "# Create counter\n",
    "counts = collections.Counter(word2count)\n",
    "counts.most_common(15)"
   ]
  },
  {
   "cell_type": "markdown",
   "metadata": {},
   "source": [
    "* Finding maximum and minimum word length in the tweets"
   ]
  },
  {
   "cell_type": "code",
   "execution_count": 271,
   "metadata": {},
   "outputs": [
    {
     "name": "stdout",
     "output_type": "stream",
     "text": [
      "max word length is: 17\n",
      "min word length is: 1\n"
     ]
    }
   ],
   "source": [
    "word_lengths = [len(w) for w in words]\n",
    "print(r'max word length is:', max(word_lengths))\n",
    "print(r'min word length is:', min(word_lengths))"
   ]
  },
  {
   "cell_type": "markdown",
   "metadata": {},
   "source": [
    "* Plotting histogram with length of the words"
   ]
  },
  {
   "cell_type": "code",
   "execution_count": 272,
   "metadata": {},
   "outputs": [
    {
     "data": {
      "image/png": "[encoded data removed]",
      "text/plain": [
       "<Figure size 432x288 with 1 Axes>"
      ]
     },
     "metadata": {},
     "output_type": "display_data"
    }
   ],
   "source": [
    "plt.hist(word_lengths)\n",
    "plt.xlabel('word length in all the tweets')\n",
    "plt.ylabel('counts')\n",
    "plt.show()"
   ]
  },
  {
   "cell_type": "markdown",
   "metadata": {},
   "source": [
    "* Plotting horizontal bar graph for most common words found in Tweets"
   ]
  },
  {
   "cell_type": "code",
   "execution_count": 273,
   "metadata": {},
   "outputs": [
    {
     "data": {
      "image/png": "[encoded data removed]",
      "text/plain": [
       "<Figure size 576x576 with 1 Axes>"
      ]
     },
     "metadata": {},
     "output_type": "display_data"
    }
   ],
   "source": [
    "clean_tweets_no_urls = pd.DataFrame(counts.most_common(15),\n",
    "                             columns=['words', 'count'])\n",
    "\n",
    "clean_tweets_no_urls.head()\n",
    "fig, ax = plt.subplots(figsize=(8, 8))\n",
    "\n",
    "# Plot horizontal bar graph\n",
    "clean_tweets_no_urls.sort_values(by='count').plot.barh(x='words',\n",
    "                      y='count',\n",
    "                      ax=ax,\n",
    "                      color=\"purple\")\n",
    "\n",
    "ax.set_title(\"Common Words Found in Tweets (Including All Words)\")\n",
    "\n",
    "plt.show()"
   ]
  },
  {
   "cell_type": "markdown",
   "metadata": {},
   "source": [
    "# Word Cloud"
   ]
  },
  {
   "cell_type": "markdown",
   "metadata": {},
   "source": [
    "* Word Cloud is a visualization technique for text data wherein each word \n",
    "  is picturized with its importance in the context or its frequency."
   ]
  },
  {
   "cell_type": "code",
   "execution_count": 274,
   "metadata": {},
   "outputs": [
    {
     "data": {
      "image/png": "[encoded data removed]",
      "text/plain": [
       "<Figure size 432x288 with 1 Axes>"
      ]
     },
     "metadata": {},
     "output_type": "display_data"
    }
   ],
   "source": [
    "allWords = ' '.join([twts for twts in df['Tweets']])\n",
    "wordCloud = WordCloud(width = 500, height=300, random_state = 21,\n",
    "max_font_size =119).generate(allWords)\n",
    "\n",
    "plt.imshow(wordCloud, interpolation = \"bilinear\")\n",
    "plt.axis('off') #remove the axis\n",
    "plt.show()"
   ]
  },
  {
   "cell_type": "markdown",
   "metadata": {},
   "source": [
    "# How Text Blob Works:"
   ]
  },
  {
   "cell_type": "markdown",
   "metadata": {},
   "source": [
    "TextBlob is a Python library for processing textual data. It provides a simple API for diving into common natural language processing (NLP)\n",
    "tasks such as part-of-speech tagging, noun phrase extraction, sentiment analysis, classification, translation, and more.\n",
    "Here we used this for sentiment analysis.\n",
    "The sentiment function of textblob returns two properties, polarity, and subjectivity. "
   ]
  },
  {
   "cell_type": "markdown",
   "metadata": {},
   "source": [
    "# Polarity \n",
    "Polarity is float which lies in the range of [-1,1] where 1 means positive statement and -1 means a negative statement."
   ]
  },
  {
   "cell_type": "markdown",
   "metadata": {},
   "source": [
    "# Subjectivity\n",
    "Subjectivity is also a float which lies in the range of [0,1]. \n",
    "In natural language, subjectivity refers to expression of opinions, evaluations, feelings, and speculations"
   ]
  },
  {
   "cell_type": "code",
   "execution_count": 275,
   "metadata": {},
   "outputs": [],
   "source": [
    "#create a function to get subjectivity and polarities\n",
    "#Subjectivity tells how subjective is the tweet\n",
    "def getSubjectivity(text):\n",
    "    return TextBlob(text).sentiment.subjectivity\n",
    "\n",
    "#create a fucntion to get the polarity\n",
    "# the polarity tells how positive or negative the text is\n",
    "def getPolarity(text):\n",
    "    return TextBlob(text).sentiment.polarity\n",
    "\n",
    "#Create two new columns\n",
    "df['Subjectivity'] = df['Tweets'].apply(getSubjectivity)\n",
    "df['Polarity'] = df['Tweets'].apply(getPolarity)\n",
    "\n"
   ]
  },
  {
   "cell_type": "code",
   "execution_count": 276,
   "metadata": {},
   "outputs": [
    {
     "data": {
      "text/html": [
       "<div>\n",
       "<style scoped>\n",
       "    .dataframe tbody tr th:only-of-type {\n",
       "        vertical-align: middle;\n",
       "    }\n",
       "\n",
       "    .dataframe tbody tr th {\n",
       "        vertical-align: top;\n",
       "    }\n",
       "\n",
       "    .dataframe thead th {\n",
       "        text-align: right;\n",
       "    }\n",
       "</style>\n",
       "<table border=\"1\" class=\"dataframe\">\n",
       "  <thead>\n",
       "    <tr style=\"text-align: right;\">\n",
       "      <th></th>\n",
       "      <th>Tweets</th>\n",
       "      <th>Subjectivity</th>\n",
       "      <th>Polarity</th>\n",
       "    </tr>\n",
       "  </thead>\n",
       "  <tbody>\n",
       "    <tr>\n",
       "      <th>0</th>\n",
       "      <td>Shame on democrocy. Trs working president and ...</td>\n",
       "      <td>0.366667</td>\n",
       "      <td>-0.033333</td>\n",
       "    </tr>\n",
       "    <tr>\n",
       "      <th>1</th>\n",
       "      <td>: CM KCR says TRS and MIM are friends.\\n\\nHis ...</td>\n",
       "      <td>0.000000</td>\n",
       "      <td>0.000000</td>\n",
       "    </tr>\n",
       "    <tr>\n",
       "      <th>2</th>\n",
       "      <td>_kumarvikash  Well for his oratory skills, he ...</td>\n",
       "      <td>0.275000</td>\n",
       "      <td>0.500000</td>\n",
       "    </tr>\n",
       "    <tr>\n",
       "      <th>3</th>\n",
       "      <td>: Massive distribution of money in different p...</td>\n",
       "      <td>0.650000</td>\n",
       "      <td>-0.200000</td>\n",
       "    </tr>\n",
       "    <tr>\n",
       "      <th>4</th>\n",
       "      <td>: Dear Hyderabad.... it’s your power...your ri...</td>\n",
       "      <td>0.500000</td>\n",
       "      <td>0.250000</td>\n",
       "    </tr>\n",
       "  </tbody>\n",
       "</table>\n",
       "</div>"
      ],
      "text/plain": [
       "                                              Tweets  Subjectivity  Polarity\n",
       "0  Shame on democrocy. Trs working president and ...      0.366667 -0.033333\n",
       "1  : CM KCR says TRS and MIM are friends.\\n\\nHis ...      0.000000  0.000000\n",
       "2  _kumarvikash  Well for his oratory skills, he ...      0.275000  0.500000\n",
       "3  : Massive distribution of money in different p...      0.650000 -0.200000\n",
       "4  : Dear Hyderabad.... it’s your power...your ri...      0.500000  0.250000"
      ]
     },
     "execution_count": 276,
     "metadata": {},
     "output_type": "execute_result"
    }
   ],
   "source": [
    "#Showing the new dataframe\n",
    "df.head()"
   ]
  },
  {
   "cell_type": "markdown",
   "metadata": {},
   "source": [
    "# Creating a function to compute the negative, neutral and positive analysis"
   ]
  },
  {
   "cell_type": "code",
   "execution_count": 277,
   "metadata": {},
   "outputs": [
    {
     "data": {
      "text/html": [
       "<div>\n",
       "<style scoped>\n",
       "    .dataframe tbody tr th:only-of-type {\n",
       "        vertical-align: middle;\n",
       "    }\n",
       "\n",
       "    .dataframe tbody tr th {\n",
       "        vertical-align: top;\n",
       "    }\n",
       "\n",
       "    .dataframe thead th {\n",
       "        text-align: right;\n",
       "    }\n",
       "</style>\n",
       "<table border=\"1\" class=\"dataframe\">\n",
       "  <thead>\n",
       "    <tr style=\"text-align: right;\">\n",
       "      <th></th>\n",
       "      <th>Tweets</th>\n",
       "      <th>Subjectivity</th>\n",
       "      <th>Polarity</th>\n",
       "      <th>Analysis</th>\n",
       "    </tr>\n",
       "  </thead>\n",
       "  <tbody>\n",
       "    <tr>\n",
       "      <th>0</th>\n",
       "      <td>Shame on democrocy. Trs working president and ...</td>\n",
       "      <td>0.366667</td>\n",
       "      <td>-0.033333</td>\n",
       "      <td>Negative</td>\n",
       "    </tr>\n",
       "    <tr>\n",
       "      <th>1</th>\n",
       "      <td>: CM KCR says TRS and MIM are friends.\\n\\nHis ...</td>\n",
       "      <td>0.000000</td>\n",
       "      <td>0.000000</td>\n",
       "      <td>Neutral</td>\n",
       "    </tr>\n",
       "    <tr>\n",
       "      <th>2</th>\n",
       "      <td>_kumarvikash  Well for his oratory skills, he ...</td>\n",
       "      <td>0.275000</td>\n",
       "      <td>0.500000</td>\n",
       "      <td>Positive</td>\n",
       "    </tr>\n",
       "    <tr>\n",
       "      <th>3</th>\n",
       "      <td>: Massive distribution of money in different p...</td>\n",
       "      <td>0.650000</td>\n",
       "      <td>-0.200000</td>\n",
       "      <td>Negative</td>\n",
       "    </tr>\n",
       "    <tr>\n",
       "      <th>4</th>\n",
       "      <td>: Dear Hyderabad.... it’s your power...your ri...</td>\n",
       "      <td>0.500000</td>\n",
       "      <td>0.250000</td>\n",
       "      <td>Positive</td>\n",
       "    </tr>\n",
       "    <tr>\n",
       "      <th>...</th>\n",
       "      <td>...</td>\n",
       "      <td>...</td>\n",
       "      <td>...</td>\n",
       "      <td>...</td>\n",
       "    </tr>\n",
       "    <tr>\n",
       "      <th>95</th>\n",
       "      <td>: Dear Hyderabad.... it’s your power...your ri...</td>\n",
       "      <td>0.500000</td>\n",
       "      <td>0.250000</td>\n",
       "      <td>Positive</td>\n",
       "    </tr>\n",
       "    <tr>\n",
       "      <th>96</th>\n",
       "      <td>: Stakes high for KTR who has been the face of...</td>\n",
       "      <td>0.420000</td>\n",
       "      <td>0.130000</td>\n",
       "      <td>Positive</td>\n",
       "    </tr>\n",
       "    <tr>\n",
       "      <th>97</th>\n",
       "      <td>: Dear Hyderabad.... it’s your power...your ri...</td>\n",
       "      <td>0.500000</td>\n",
       "      <td>0.250000</td>\n",
       "      <td>Positive</td>\n",
       "    </tr>\n",
       "    <tr>\n",
       "      <th>98</th>\n",
       "      <td>_: AttackOnBandiSanjay is a result of frustrat...</td>\n",
       "      <td>0.000000</td>\n",
       "      <td>0.000000</td>\n",
       "      <td>Neutral</td>\n",
       "    </tr>\n",
       "    <tr>\n",
       "      <th>99</th>\n",
       "      <td>Let's stand for development and let's stand fo...</td>\n",
       "      <td>0.462500</td>\n",
       "      <td>0.350000</td>\n",
       "      <td>Positive</td>\n",
       "    </tr>\n",
       "  </tbody>\n",
       "</table>\n",
       "<p>100 rows × 4 columns</p>\n",
       "</div>"
      ],
      "text/plain": [
       "                                               Tweets  Subjectivity  Polarity  \\\n",
       "0   Shame on democrocy. Trs working president and ...      0.366667 -0.033333   \n",
       "1   : CM KCR says TRS and MIM are friends.\\n\\nHis ...      0.000000  0.000000   \n",
       "2   _kumarvikash  Well for his oratory skills, he ...      0.275000  0.500000   \n",
       "3   : Massive distribution of money in different p...      0.650000 -0.200000   \n",
       "4   : Dear Hyderabad.... it’s your power...your ri...      0.500000  0.250000   \n",
       "..                                                ...           ...       ...   \n",
       "95  : Dear Hyderabad.... it’s your power...your ri...      0.500000  0.250000   \n",
       "96  : Stakes high for KTR who has been the face of...      0.420000  0.130000   \n",
       "97  : Dear Hyderabad.... it’s your power...your ri...      0.500000  0.250000   \n",
       "98  _: AttackOnBandiSanjay is a result of frustrat...      0.000000  0.000000   \n",
       "99  Let's stand for development and let's stand fo...      0.462500  0.350000   \n",
       "\n",
       "    Analysis  \n",
       "0   Negative  \n",
       "1    Neutral  \n",
       "2   Positive  \n",
       "3   Negative  \n",
       "4   Positive  \n",
       "..       ...  \n",
       "95  Positive  \n",
       "96  Positive  \n",
       "97  Positive  \n",
       "98   Neutral  \n",
       "99  Positive  \n",
       "\n",
       "[100 rows x 4 columns]"
      ]
     },
     "execution_count": 277,
     "metadata": {},
     "output_type": "execute_result"
    }
   ],
   "source": [
    " \n",
    "def getAnalysis(score):\n",
    "   if score < 0:\n",
    "      return 'Negative'\n",
    "   elif score == 0:\n",
    "      return 'Neutral'\n",
    "   else:\n",
    "      return 'Positive'\n",
    "\n",
    "df['Analysis'] = df['Polarity'].apply(getAnalysis)\n",
    "\n",
    "#Show the dataframe\n",
    "df"
   ]
  },
  {
   "cell_type": "markdown",
   "metadata": {},
   "source": [
    "# Print all of the positive tweets"
   ]
  },
  {
   "cell_type": "code",
   "execution_count": 278,
   "metadata": {},
   "outputs": [
    {
     "name": "stdout",
     "output_type": "stream",
     "text": [
      "1) _kumarvikash  Well for his oratory skills, he is one of the best. But their position on AIMIM is what makes it all dicey. Wish TRS becomes part of NDA and KTR becomes a central minister someday.\n",
      "\n",
      "2) : Dear Hyderabad.... it’s your power...your right..and your CONSCIENCE.....to DECIDE. do you want a peaceful HYDERABAD.. GH…\n",
      "\n",
      "3) _ajay Sir are you minister of your constancy or whole Telangana? Once look into village roads ,,,,,,,,we expect only lacks not crores like Ragunadapalem ..\n",
      "TRS BJP jansena pspk KHAMMAM KTR pspk Telangana tv9, v6\n",
      "\n",
      "4) : Dear Hyderabad.... it’s your power...your right..and your CONSCIENCE.....to DECIDE. do you want a peaceful HYDERABAD.. GH…\n",
      "\n",
      "5) :   Din't TRS get enough time for new Plan of Drainage?\n",
      "2Cm rain makes Hyd, roads Mini tanks,\n",
      "Why on…\n",
      "\n",
      "6) _SudheerReddy   KTR please respond on the news \"TRS karyakartas distributing money\". \n",
      "Is that true??\n",
      "\n",
      "7) : Dear Hyderabad.... it’s your power...your right..and your CONSCIENCE.....to DECIDE. do you want a peaceful HYDERABAD.. GH…\n",
      "\n",
      "8) : TRS Candidate — I will win ‘Chanda nagar’ and gift it to KTR.\n",
      "BJP Candidate — I will develop ‘Chandanagar’ and gift it…\n",
      "\n",
      "9) : Shame on TRS. KTR WILL SPEAK ABOUT PEACFUL CITY. WHO IS THREATENING CITY??? \n",
      "HOWEVER PEOPLE KNOWS WHO ARE PEACEFUL LEADERS.…\n",
      "\n",
      "10) :   Din't TRS get enough time for new Plan of Drainage?\n",
      "2Cm rain makes Hyd, roads Mini tanks,\n",
      "Why on…\n",
      "\n",
      "11) _wins: _News  I pray that TRS wins and Hyderabad is a pink city. I’m sure the party has thought through the colour of pi…\n",
      "\n",
      "12) : Dear Hyderabad.... it’s your power...your right..and your CONSCIENCE.....to DECIDE. do you want a peaceful HYDERABAD.. GH…\n",
      "\n",
      "13) voteforcar\n",
      "Vote for friendly party ... Not for name changing parties.\n",
      "KTR TRS\n",
      "\n",
      "14) My great governments GHMCPolls voterlist electionday Hyderabad   removed Names from voters list nearly 1L missing.\n",
      "oldcity COVIDー19  VoteHimOut TRS BJP Congress AIMIM janasenaparty KTR bandisanjay republictv NDTV AajTak 🗳🗳\n",
      "\n",
      "15) : Dear Hyderabad.... it’s your power...your right..and your CONSCIENCE.....to DECIDE. do you want a peaceful HYDERABAD.. GH…\n",
      "\n",
      "16)  This proves KTR and TRS party is B Team of terrorist Qwaisi's AIMIM. I thought of supporting you my and my family vote is now for BJP.\n",
      "\n",
      "17)   hi KTR Anna Namaste \n",
      "my vote is missing please help me \n",
      "I don't want to lose my vote for TRS\n",
      "I got many benefits from my TRS https://t.co/3bJaJtSqDM\n",
      "\n",
      "18) : TRS Candidate — I will win ‘Chanda nagar’ and gift it to KTR.\n",
      "BJP Candidate — I will develop ‘Chandanagar’ and gift it…\n",
      "\n",
      "19) : GHMC HMDA Traffic studies by NIT, Sewer Drains plans by Massachusetts Institute of Technology etc many studies fine in past…\n",
      "\n",
      "20)    No Doubt that TRS is the Best as on date. They are asking the Votes on their Work like Kejriwal in Delhi. Kejriwal and KTR are the Political Future of our Country.\n",
      "\n",
      "21) _News  My 5 votes for our betterment. insha'Allah we will win. TRS Vijay bhawa...💪💪💪\n",
      "\n",
      "22) : The video clearly says KTR is scared of loosing the friendship with Owaisi. \n",
      "\n",
      "Here is why I say this.\n",
      "1. When Jr said CM ham…\n",
      "\n",
      "23) The video clearly says KTR is scared of loosing the friendship with Owaisi. \n",
      "\n",
      "Here is why I say this.\n",
      "1. When Jr said CM hamare pass jhuktha but KTR didn't responded.\n",
      "2. When Sr said Car is in govt but steering is in our hands. \n",
      "3. When Sr humiliated Bathukamma TRS didn't condemn https://t.co/Esu5rr5M1p\n",
      "\n",
      "24) : Dear Hyderabad.... it’s your power...your right..and your CONSCIENCE.....to DECIDE. do you want a peaceful HYDERABAD.. GH…\n",
      "\n",
      "25) : TRS Candidate — I will win ‘Chanda nagar’ and gift it to KTR.\n",
      "BJP Candidate — I will develop ‘Chandanagar’ and gift it…\n",
      "\n",
      "26) _wins: _News  I pray that TRS wins and Hyderabad is a pink city. I’m sure the party has thought through the colour of pi…\n",
      "\n",
      "27)   Very good acting _News _News Lite action, Cemeran srart... dont worry Askar ward deffently come U... NO TRS.. ONLYvote 4 BJP\n",
      "\n",
      "28) : Dear Hyderabad.... it’s your power...your right..and your CONSCIENCE.....to DECIDE. do you want a peaceful HYDERABAD.. GH…\n",
      "\n",
      "29) GHMC Elections 2020 Live Updates: KTR, AIMIM Chief Owaisi, Kishan Reddy Cast Their Votes In GHMC Polls\n",
      "\n",
      "GHMCElections2020\n",
      "KTR, AsaduddinOwaisi KishanReddy TRS BJP AIMIM \n",
      "\n",
      "https://t.co/zMbjCCa9lU\n",
      "\n",
      "30)     vote for Car \n",
      "vote for development \n",
      " jai Telangana. KCR sir KTR anna \n",
      "Only local .TRS ..\n",
      "Shanti chintala madam your 100/ win all blessing with you .\n",
      "\n",
      "31) GHMCPolls2020: Telangana IT Minister and TRS Party Working President KTR has exercised his vote in Nandi Nagar, Hyderabad. Later KTR has urged the voters to exercise their right to vote.\n",
      "\n",
      "MinisterKTR KTR TRS GHMCElections GHMCElections2020 GHMCPolls Hyderabad MangoNews https://t.co/JQqMy3rAD5\n",
      "\n",
      "32) All Telangana peoples, Election Day and cast your vote for our Hyderabad development and vote for TRS..votefortrs HyderabadWithTRS all the best KTR sir  \n",
      "\n",
      "33) : Dear Hyderabad.... it’s your power...your right..and your CONSCIENCE.....to DECIDE. do you want a peaceful HYDERABAD.. GH…\n",
      "\n",
      "34) : Vow to be available 24/7 for alwaldivision134 people be it development or for any natural calamities. \n",
      "Please VoteFor…\n",
      "\n",
      "35) KTR  Sir happy to share  who is 80 years old stepped out of Home after 22/03/2020 for the First time today to Vote for TRS 🙏🏻🙏🏻❤️❤️ ఈ బామ్మ  ఓటుతో టిఆర్ఎస్ పార్టీ భారీ మెజారిటీతో గెలవ పోతుంది GHMCElections2020 \n",
      "Hyderabad https://t.co/k01g9ZO9ZI\n",
      "\n",
      "36) _News  Honble TRS gariki congratus to you use vote sir more majority to win Ghmc corporations elections more responses 150 divisions More response active voters to attend polls bhoots so hod blesings trs party to win more majority\n",
      "\n",
      "37) : Dear Hyderabad.... it’s your power...your right..and your CONSCIENCE.....to DECIDE. do you want a peaceful HYDERABAD.. GH…\n",
      "\n",
      "38) : Dear Hyderabad.... it’s your power...your right..and your CONSCIENCE.....to DECIDE. do you want a peaceful HYDERABAD.. GH…\n",
      "\n",
      "39) : Dear Hyderabad.... it’s your power...your right..and your CONSCIENCE.....to DECIDE. do you want a peaceful HYDERABAD.. GH…\n",
      "\n",
      "40) : Dear Hyderabad.... it’s your power...your right..and your CONSCIENCE.....to DECIDE. do you want a peaceful HYDERABAD.. GH…\n",
      "\n",
      "41) : Dear Hyderabad.... it’s your power...your right..and your CONSCIENCE.....to DECIDE. do you want a peaceful HYDERABAD.. GH…\n",
      "\n",
      "42)  Nothing funny. Modi at the Centre remember?? Looking at your handle you must be a NI with limited knowledge about TRS and how they handled Telangana. KTR *is* the reason for Hyd being progressive &amp; peaceful since 2014. People are not fools not to distinguish b/w CBN &amp; KTR.\n",
      "\n",
      "43) _111  TRS is  real Humanity party .\n",
      "Dear Hyderabad.... it’s your power...your right..and your CONSCIENCE.....to DECIDE. do you want a peaceful HYDERABAD..GHMCElections  ..please vote for HARMONY...not Divisive politics..we must stand with TRS ... KCR KTR ...TRS Bron for development https://t.co/XFf8dqtBr9\n",
      "\n",
      "44)   TRS PARTY IS WORLD BEST PARTY LOVE YOU KCR SIR AND KTR SIR .....JAI TELANGANA JAI KCR JAI KTR...........\n",
      "\n",
      "45) : Vow to be available 24/7 for alwaldivision134 people be it development or for any natural calamities. \n",
      "Please VoteFor…\n",
      "\n",
      "46) : Vow to be available 24/7 for alwaldivision134 people be it development or for any natural calamities. \n",
      "Please VoteFor…\n",
      "\n",
      "47) : Dear Hyderabad.... it’s your power...your right..and your CONSCIENCE.....to DECIDE. do you want a peaceful HYDERABAD.. GH…\n",
      "\n",
      "48) Let the name be \"Hyderabad\"\n",
      "I ain't Hyderabadi and I don't have a vote but I live here since 2012. \n",
      "The place has developed with full of opportunities since then. TRS for reason. KTR  KCR\n",
      "\n",
      "49) _wins: _News  I pray that TRS wins and Hyderabad is a pink city. I’m sure the party has thought through the colour of pi…\n",
      "\n",
      "50) : Dear Hyderabad.... it’s your power...your right..and your CONSCIENCE.....to DECIDE. do you want a peaceful HYDERABAD.. GH…\n",
      "\n",
      "51) : Stakes high for KTR who has been the face of the TRS campaign in the GHMCElections2020. One of the early voters. https:…\n",
      "\n",
      "52) : Dear Hyderabad.... it’s your power...your right..and your CONSCIENCE.....to DECIDE. do you want a peaceful HYDERABAD.. GH…\n",
      "\n",
      "53) Let's stand for development and let's stand for change 💯 vote for TRS 🚗 and let's vote for our bright future 🙏\n",
      "VoteForCar KTR Election2020 https://t.co/zr2S0bqhRG\n",
      "\n"
     ]
    }
   ],
   "source": [
    "j=1\n",
    "sortedDF = df.sort_values(by=['Polarity'])\n",
    "for i in range(0, sortedDF.shape[0]):\n",
    "    if(sortedDF['Analysis'][i] == 'Positive'):\n",
    "        print(str(j) + ') '+sortedDF['Tweets'][i])\n",
    "        print()\n",
    "        j = j+1"
   ]
  },
  {
   "cell_type": "markdown",
   "metadata": {},
   "source": [
    "# Print all of the negative tweets "
   ]
  },
  {
   "cell_type": "code",
   "execution_count": 279,
   "metadata": {},
   "outputs": [
    {
     "name": "stdout",
     "output_type": "stream",
     "text": [
      "1) Shame on democrocy. Trs working president and state cabinet minister Ktr killed democrocy by having two votes in a state. Pls take necessary action up on him.\n",
      "_Telangana   https://t.co/rTBDa6VZgZ\n",
      "\n",
      "2) : Massive distribution of money in different parts of GHMC by TRS party\n",
      "\n",
      "Money earned thru filthy means by KCR KTR\n",
      "\n",
      "Local lea…\n",
      "\n",
      "3) : Massive distribution of money in different parts of GHMC by TRS party\n",
      "\n",
      "Money earned thru filthy means by KCR KTR\n",
      "\n",
      "Local lea…\n",
      "\n",
      "4) : Massive distribution of money in different parts of GHMC by TRS party\n",
      "\n",
      "Money earned thru filthy means by KCR KTR\n",
      "\n",
      "Local lea…\n",
      "\n",
      "5)    _111  What numbers? All trs politician colleges increasing fees and making stupid colleges into universities.. A trs party member's son lost both his parents and brother because of negligence by the hospitals in Telangana, he even tweeted KTR.\n",
      "\n",
      "6) KTR\n",
      " *The government should make it mandatory that if any family without proper reason refrains from voting should be isolated and cut the essential supplies like water, electricity etc.* also cut the ration to those who fail to vote.\n",
      "\n",
      "7) : Massive distribution of money in different parts of GHMC by TRS party\n",
      "\n",
      "Money earned thru filthy means by KCR KTR\n",
      "\n",
      "Local lea…\n",
      "\n",
      "8) : Massive distribution of money in different parts of GHMC by TRS party\n",
      "\n",
      "Money earned thru filthy means by KCR KTR\n",
      "\n",
      "Local lea…\n",
      "\n",
      "9) Make some noise for Hyderabad \n",
      "\n",
      "VoteForHyderabad \n",
      "HyderabadElection GHMCElections2020\n",
      "pink Orange TRS BJP4GHMC BJP KTR KCR bandisanjay https://t.co/CBKW8D7wGN\n",
      "\n",
      "10)   Ohh do u have any idea about TRS/KCR/Harish/KTR ?Jus go n watch their 2010-2014 you will get clarify and this stupid is supporting them. He dont have any clarity , KCR and his family are masters in fooling ppl and with their hate speech. I dont care if it is bjp or congres !!\n",
      "\n",
      "11) : Massive distribution of money in different parts of GHMC by TRS party\n",
      "\n",
      "Money earned thru filthy means by KCR KTR\n",
      "\n",
      "Local lea…\n",
      "\n",
      "12) We are not voting due to as some private companies are working today &amp; they are not given any holiday today as GHMCElections2020 given strong instructions about today's holiday. So we are unable to vote our rights. \n",
      "So i request GHMCElections KTR TRS  \n",
      "\n"
     ]
    }
   ],
   "source": [
    "# Print all of the negative tweets , shape[0] gives no. of rows\n",
    "j=1\n",
    "sortedDF = df.sort_values(by=['Polarity'], ascending='False')\n",
    "for i in range(0, sortedDF.shape[0]):\n",
    "    if(sortedDF['Analysis'][i] == 'Negative'):\n",
    "        print(str(j) + ') '+ sortedDF['Tweets'][i])\n",
    "        print() # print new line\n",
    "        j = j+1"
   ]
  },
  {
   "cell_type": "markdown",
   "metadata": {},
   "source": [
    "# Plot the polarity and subjectivity"
   ]
  },
  {
   "cell_type": "code",
   "execution_count": 280,
   "metadata": {},
   "outputs": [
    {
     "data": {
      "image/png": "[encoded data removed]",
      "text/plain": [
       "<Figure size 576x432 with 1 Axes>"
      ]
     },
     "metadata": {},
     "output_type": "display_data"
    }
   ],
   "source": [
    "plt.figure(figsize=(8,6))\n",
    "for i in range(0, df.shape[0]):\n",
    "    plt.scatter(df['Polarity'][i], df['Subjectivity'][i], color='Blue')\n",
    "\n",
    "plt.title('Sentiment Analysis')\n",
    "plt.xlabel('Polarity')\n",
    "plt.ylabel('Subjectivity')\n",
    "plt.show()"
   ]
  },
  {
   "cell_type": "markdown",
   "metadata": {},
   "source": [
    "# Get the percentage of positive tweets"
   ]
  },
  {
   "cell_type": "code",
   "execution_count": 281,
   "metadata": {},
   "outputs": [
    {
     "data": {
      "text/plain": [
       "53.0"
      ]
     },
     "execution_count": 281,
     "metadata": {},
     "output_type": "execute_result"
    }
   ],
   "source": [
    "pos_tweets = df[df.Analysis == 'Positive']\n",
    "pos_tweets = pos_tweets['Tweets']\n",
    "pos_tweets\n",
    "round((pos_tweets.shape[0] / df.shape[0]) *100 , 2)"
   ]
  },
  {
   "cell_type": "markdown",
   "metadata": {},
   "source": [
    "# Get the percentage of negative tweets"
   ]
  },
  {
   "cell_type": "code",
   "execution_count": 282,
   "metadata": {},
   "outputs": [
    {
     "data": {
      "text/plain": [
       "12.0"
      ]
     },
     "execution_count": 282,
     "metadata": {},
     "output_type": "execute_result"
    }
   ],
   "source": [
    "neg_tweets = df[df.Analysis == 'Negative']\n",
    "neg_tweets = neg_tweets['Tweets']\n",
    "neg_tweets\n",
    "round((neg_tweets.shape[0] / df.shape[0]) *100 , 2)"
   ]
  },
  {
   "cell_type": "markdown",
   "metadata": {},
   "source": [
    "# Percentage of neutral sentiment"
   ]
  },
  {
   "cell_type": "code",
   "execution_count": 283,
   "metadata": {},
   "outputs": [
    {
     "data": {
      "text/plain": [
       "35.0"
      ]
     },
     "execution_count": 283,
     "metadata": {},
     "output_type": "execute_result"
    }
   ],
   "source": [
    "neutral_tweets = df[df.Analysis == 'Neutral']\n",
    "neutral_tweets = neutral_tweets['Tweets']\n",
    "#Just printing\n",
    "neutral_tweets\n",
    "round((neutral_tweets.shape[0] / df.shape[0]) *100 , 1)"
   ]
  },
  {
   "cell_type": "markdown",
   "metadata": {},
   "source": [
    "# Plot and visualize the counts"
   ]
  },
  {
   "cell_type": "code",
   "execution_count": 284,
   "metadata": {},
   "outputs": [
    {
     "data": {
      "image/png": "[encoded data removed]",
      "text/plain": [
       "<Figure size 432x288 with 1 Axes>"
      ]
     },
     "metadata": {},
     "output_type": "display_data"
    }
   ],
   "source": [
    "df['Analysis'].value_counts()\n",
    "plt.title('TRS-KTR Sentiment Analysis based on Twitter')\n",
    "plt.xlabel('Sentiment')\n",
    "plt.ylabel('Counts')\n",
    "df['Analysis'].value_counts().plot(kind='bar')\n",
    "plt.show()"
   ]
  },
  {
   "cell_type": "markdown",
   "metadata": {},
   "source": [
    "# CONCLUSION:"
   ]
  },
  {
   "cell_type": "markdown",
   "metadata": {},
   "source": [
    "* This Sentiment Analysis shows that the TRS party for which KTR is the working president has a positive sentiment \n",
    "  and has an edge to win the current GHMC elections.\n",
    "* TRS party has a positive sentiment of 55 percent currently\n",
    "* 'TRS' party has a largest word count of 74 times and 'KTR' has a second largest count of 72 times as per the \n",
    "   top 500 public twitter tweets"
   ]
  },
  {
   "cell_type": "markdown",
   "metadata": {},
   "source": [
    "# FUTURE STEPS:"
   ]
  },
  {
   "cell_type": "markdown",
   "metadata": {},
   "source": [
    "This analysis can be used for any sentiment prediction by taking the most significant words to know the sentiment towards\n",
    "that specific topic\n",
    "for example, \n",
    "- COVID-19 research progress\n",
    "- Sentiment towards a specific movie\n",
    "- Knowing sentiment towards a newly lauched product and taking measures to increase sales\n",
    "- Knowing sentiment towards a brand name etc."
   ]
  },
  {
   "cell_type": "code",
   "execution_count": null,
   "metadata": {},
   "outputs": [],
   "source": []
  }
 ],
 "metadata": {
  "kernelspec": {
   "display_name": "Python 3",
   "language": "python",
   "name": "python3"
  },
  "language_info": {
   "codemirror_mode": {
    "name": "ipython",
    "version": 3
   },
   "file_extension": ".py",
   "mimetype": "text/x-python",
   "name": "python",
   "nbconvert_exporter": "python",
   "pygments_lexer": "ipython3",
   "version": "3.7.6"
  }
 },
 "nbformat": 4,
 "nbformat_minor": 4
}
